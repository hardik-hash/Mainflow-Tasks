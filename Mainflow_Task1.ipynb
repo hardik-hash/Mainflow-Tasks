{
  "nbformat": 4,
  "nbformat_minor": 0,
  "metadata": {
    "colab": {
      "provenance": [],
      "toc_visible": true
    },
    "kernelspec": {
      "name": "python3",
      "display_name": "Python 3"
    },
    "language_info": {
      "name": "python"
    }
  },
  "cells": [
    {
      "cell_type": "code",
      "execution_count": 2,
      "metadata": {
        "colab": {
          "base_uri": "https://localhost:8080/"
        },
        "id": "PnNmeAlwIf3F",
        "outputId": "f14868d2-427d-4b00-c2e5-5d964a03e07e"
      },
      "outputs": [
        {
          "output_type": "stream",
          "name": "stdout",
          "text": [
            "Original List: [1, 2, 3, 4, 5]\n",
            "List after adding element: [1, 2, 3, 4, 5, 6]\n",
            "List after removing element: [1, 2, 4, 5, 6]\n",
            "List after modifying element: [10, 2, 4, 5, 6]\n"
          ]
        }
      ],
      "source": [
        "# creating a list\n",
        "my_list = [1, 2, 3, 4, 5]\n",
        "print(\"Original List:\", my_list)\n",
        "\n",
        "# Adding elements to the list\n",
        "my_list.append(6)\n",
        "print(\"List after adding element:\", my_list)\n",
        "\n",
        "# Removing elements from the list\n",
        "my_list.remove(3)\n",
        "print(\"List after removing element:\", my_list)\n",
        "\n",
        "# Modifying elements in the list\n",
        "my_list[0] = 10\n",
        "print(\"List after modifying element:\", my_list)"
      ]
    },
    {
      "cell_type": "code",
      "source": [
        "# Creating a dictionary\n",
        "my_dict = {'a': 1, 'b': 2, 'c': 3}\n",
        "print(\"\\nOriginal Dictionary:\", my_dict)\n",
        "\n",
        "# Adding key-value pairs to the dictionary\n",
        "my_dict['d'] = 4\n",
        "print(\"Dictionary after adding key-value pair:\", my_dict)\n",
        "\n",
        "# Removing key-value pairs from the dictionary\n",
        "del my_dict['b']\n",
        "print(\"Dictionary after removing key-value pair:\", my_dict)\n",
        "\n",
        "# Modifying values in the dictionary\n",
        "my_dict['a'] = 100\n",
        "print(\"Dictionary after modifying value:\", my_dict)"
      ],
      "metadata": {
        "colab": {
          "base_uri": "https://localhost:8080/"
        },
        "id": "XVtUEawlIuGw",
        "outputId": "07c5938a-2cb9-4e50-9282-907f1c4618da"
      },
      "execution_count": 3,
      "outputs": [
        {
          "output_type": "stream",
          "name": "stdout",
          "text": [
            "\n",
            "Original Dictionary: {'a': 1, 'b': 2, 'c': 3}\n",
            "Dictionary after adding key-value pair: {'a': 1, 'b': 2, 'c': 3, 'd': 4}\n",
            "Dictionary after removing key-value pair: {'a': 1, 'c': 3, 'd': 4}\n",
            "Dictionary after modifying value: {'a': 100, 'c': 3, 'd': 4}\n"
          ]
        }
      ]
    },
    {
      "cell_type": "code",
      "source": [
        "# Creating a set\n",
        "my_set = {1, 2, 3, 4, 5}\n",
        "print(\"\\nOriginal Set:\", my_set)\n",
        "\n",
        "# Adding elements to the set\n",
        "my_set.add(6)\n",
        "print(\"Set after adding element:\", my_set)\n",
        "\n",
        "# Removing elements from the set\n",
        "my_set.remove(3)\n",
        "print(\"Set after removing element:\", my_set)"
      ],
      "metadata": {
        "colab": {
          "base_uri": "https://localhost:8080/"
        },
        "id": "Kc3KMs5pIy68",
        "outputId": "dfb509e3-79bf-452a-fbb4-619dba9fd0cb"
      },
      "execution_count": 4,
      "outputs": [
        {
          "output_type": "stream",
          "name": "stdout",
          "text": [
            "\n",
            "Original Set: {1, 2, 3, 4, 5}\n",
            "Set after adding element: {1, 2, 3, 4, 5, 6}\n",
            "Set after removing element: {1, 2, 4, 5, 6}\n"
          ]
        }
      ]
    },
    {
      "cell_type": "code",
      "source": [],
      "metadata": {
        "id": "jyVcJ1DBI3Ez"
      },
      "execution_count": null,
      "outputs": []
    }
  ]
}